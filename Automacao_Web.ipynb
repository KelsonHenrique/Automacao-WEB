{
 "cells": [
  {
   "cell_type": "code",
   "execution_count": 1,
   "id": "aedac87c",
   "metadata": {},
   "outputs": [],
   "source": [
    "from selenium import webdriver\n",
    "from selenium.webdriver.common.keys import Keys\n",
    "from selenium.webdriver.common.by import By\n",
    "from webdriver_manager.chrome import ChromeDriverManager\n",
    "from selenium.webdriver.chrome.service import Service\n",
    "\n",
    "servico = Service(ChromeDriverManager().install()) # identifica a versão do Chrome e instala o ChromeDriver correspondente\n",
    "\n",
    "\n",
    "navegador = webdriver.Chrome(service=servico) #usando service=servico vamos usar o Service e não o chromedriver que baixei manualmente\n",
    "\n"
   ]
  },
  {
   "cell_type": "code",
   "execution_count": 2,
   "id": "ad0f2d1b",
   "metadata": {},
   "outputs": [],
   "source": [
    "navegador.get(\"https://pages.hashtagtreinamentos.com/inscricao-minicurso-python-automacao-org?origemurl=hashtag_yt_org_minipython_8AMNaVt0z_M\")\n",
    "\n"
   ]
  },
  {
   "cell_type": "code",
   "execution_count": 3,
   "id": "d050c29e",
   "metadata": {},
   "outputs": [],
   "source": [
    "navegador.find_element(By.XPATH,\n",
    "                       '//*[@id=\"section-10356508\"]/section/div[2]/div/div[2]/form/div[1]/div/div[1]/div/input').send_keys(\"Kelson\")\n",
    "\n",
    "navegador.find_element(By.XPATH,\n",
    "                      '//*[@id=\"section-10356508\"]/section/div[2]/div/div[2]/form/div[1]/div/div[2]/div/input').send_keys(\"kelsonufc7@gmail.com\")\n",
    "\n",
    "navegador.find_element(By.XPATH,\n",
    "                      '//*[@id=\"section-10356508\"]/section/div[2]/div/div[2]/form/div[1]/div/div[3]/div/input').send_keys(\"85997931612\")\n",
    "\n",
    "navegador.find_element(By.XPATH,\n",
    "                      '//*[@id=\"section-10356508\"]/section/div[2]/div/div[2]/form/button').click()"
   ]
  }
 ],
 "metadata": {
  "kernelspec": {
   "display_name": "Python 3 (ipykernel)",
   "language": "python",
   "name": "python3"
  },
  "language_info": {
   "codemirror_mode": {
    "name": "ipython",
    "version": 3
   },
   "file_extension": ".py",
   "mimetype": "text/x-python",
   "name": "python",
   "nbconvert_exporter": "python",
   "pygments_lexer": "ipython3",
   "version": "3.9.12"
  }
 },
 "nbformat": 4,
 "nbformat_minor": 5
}
